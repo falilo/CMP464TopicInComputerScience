{
 "cells": [
  {
   "cell_type": "markdown",
   "metadata": {},
   "source": [
    "# Week 3\n",
    "# NumPy Arrays\n",
    "\n",
    "[NumPy](https://numpy.org/) is the core library for scientific computing in Python. It provides a high-performance multidimensional array object, and tools for working with these arrays.\n",
    "\n",
    "**Resources:**\n",
    "- Textbook Chapter 4\n",
    "- [NumPy Documentation](https://numpy.org/doc/1.19/user/quickstart.html)\n",
    "- [NumPy Tutorial from W3School](https://www.w3resource.com/python-exercises/numpy/index.php)"
   ]
  },
  {
   "cell_type": "code",
   "execution_count": null,
   "metadata": {},
   "outputs": [],
   "source": [
    "import numpy as np # np is a universally-used abbrevation for numpy"
   ]
  },
  {
   "cell_type": "markdown",
   "metadata": {},
   "source": [
    "## NumPy Arrays\n",
    "\n",
    "A numpy array is a grid of values, all of the same type, and is indexed by a tuple of nonnegative integers.\n",
    "- **rank**: number of dimensions\n",
    "- **shape** a tuple of integers giving the size of the array along each dimension"
   ]
  },
  {
   "cell_type": "code",
   "execution_count": 3,
   "metadata": {},
   "outputs": [
    {
     "name": "stdout",
     "output_type": "stream",
     "text": [
      "Numpy array: [1 2 3 4]\n",
      "Shape: (4,)\n",
      "Type: int32\n"
     ]
    }
   ],
   "source": [
    "# Create a numpy array from a Python list\n",
    "import numpy as np\n",
    "py_list = [1, 2, 3, 4]\n",
    "np_ary = np.array(py_list)\n",
    "print(\"Numpy array:\", np_ary)\n",
    "print(\"Shape:\", np_ary.shape)\n",
    "print(\"Type:\", np_ary.dtype)"
   ]
  },
  {
   "cell_type": "code",
   "execution_count": 7,
   "metadata": {},
   "outputs": [
    {
     "name": "stdout",
     "output_type": "stream",
     "text": [
      "3 4 5\n"
     ]
    }
   ],
   "source": [
    "# Access elements using square brackets\n",
    "# Ex: print the index 0, 2, 4 elements of ary\n",
    "ary = np.array([3, 1, 4, 1, 5, 9])\n",
    "print(ary[0], ary[2], ary[4])"
   ]
  },
  {
   "cell_type": "code",
   "execution_count": 8,
   "metadata": {},
   "outputs": [
    {
     "name": "stdout",
     "output_type": "stream",
     "text": [
      "9\n"
     ]
    }
   ],
   "source": [
    "# Ex: print the last element of ary\n",
    "print(ary[-1])"
   ]
  },
  {
   "cell_type": "code",
   "execution_count": 9,
   "metadata": {},
   "outputs": [
    {
     "name": "stdout",
     "output_type": "stream",
     "text": [
      "[3 1 4]\n"
     ]
    }
   ],
   "source": [
    "# Ex: print the first 3 elements of ary\n",
    "print(ary[:3])"
   ]
  },
  {
   "cell_type": "code",
   "execution_count": 18,
   "metadata": {},
   "outputs": [
    {
     "name": "stdout",
     "output_type": "stream",
     "text": [
      "[5 9]\n"
     ]
    }
   ],
   "source": [
    "# Ex: print the last 2 elements of ary\n",
    "print(ary[-2:])"
   ]
  },
  {
   "cell_type": "code",
   "execution_count": 19,
   "metadata": {},
   "outputs": [
    {
     "name": "stdout",
     "output_type": "stream",
     "text": [
      "[[1 2 3]\n",
      " [4 5 6]]\n"
     ]
    }
   ],
   "source": [
    "# Create a 2D array\n",
    "ary2d = np.array([[1, 2, 3],\n",
    "                  [4, 5, 6]])\n",
    "print(ary2d)"
   ]
  },
  {
   "cell_type": "code",
   "execution_count": 23,
   "metadata": {},
   "outputs": [
    {
     "name": "stdout",
     "output_type": "stream",
     "text": [
      "(2, 3) int32\n"
     ]
    }
   ],
   "source": [
    "# Ex: print the shape and variable type of ary2d\n",
    "print(ary2d.shape, ary2d.dtype)"
   ]
  },
  {
   "cell_type": "code",
   "execution_count": 25,
   "metadata": {},
   "outputs": [
    {
     "name": "stdout",
     "output_type": "stream",
     "text": [
      "2\n"
     ]
    }
   ],
   "source": [
    "# Ex: print the element on the first row and the second column\n",
    "print(ary2d[0][1])"
   ]
  },
  {
   "cell_type": "code",
   "execution_count": 27,
   "metadata": {},
   "outputs": [
    {
     "name": "stdout",
     "output_type": "stream",
     "text": [
      "[1 2 3]\n"
     ]
    }
   ],
   "source": [
    "# Ex: print the entire first row\n",
    "print(ary2d[0])"
   ]
  },
  {
   "cell_type": "code",
   "execution_count": 32,
   "metadata": {},
   "outputs": [
    {
     "name": "stdout",
     "output_type": "stream",
     "text": [
      "[1 4]\n"
     ]
    }
   ],
   "source": [
    "# Ex: print the entire first column\n",
    "print(ary2d[0:2,0])"
   ]
  },
  {
   "cell_type": "markdown",
   "metadata": {},
   "source": [
    "NumPy also provides many functions to create arrays:"
   ]
  },
  {
   "cell_type": "code",
   "execution_count": 33,
   "metadata": {},
   "outputs": [
    {
     "name": "stdout",
     "output_type": "stream",
     "text": [
      "[[0. 0. 0.]\n",
      " [0. 0. 0.]]\n"
     ]
    }
   ],
   "source": [
    "ary = np.zeros((2, 3))\n",
    "print(ary)"
   ]
  },
  {
   "cell_type": "code",
   "execution_count": 34,
   "metadata": {},
   "outputs": [
    {
     "name": "stdout",
     "output_type": "stream",
     "text": [
      "[[1. 1.]\n",
      " [1. 1.]\n",
      " [1. 1.]]\n"
     ]
    }
   ],
   "source": [
    "ary = np.ones((3, 2))\n",
    "print(ary)"
   ]
  },
  {
   "cell_type": "code",
   "execution_count": 35,
   "metadata": {},
   "outputs": [
    {
     "name": "stdout",
     "output_type": "stream",
     "text": [
      "[[0.86217985 0.41986684]\n",
      " [0.35756655 0.34574131]]\n"
     ]
    }
   ],
   "source": [
    "ary = np.random.rand(2, 2)\n",
    "print(ary)"
   ]
  },
  {
   "cell_type": "markdown",
   "metadata": {},
   "source": [
    "## Advanced Array Indexing\n",
    "NumPy arrays support **integer array indexing** and **boolean indexing**, which provides additional tools to create a subarray."
   ]
  },
  {
   "cell_type": "code",
   "execution_count": 2,
   "metadata": {},
   "outputs": [
    {
     "name": "stdout",
     "output_type": "stream",
     "text": [
      "[ 0  8 10]\n"
     ]
    }
   ],
   "source": [
    "# Integer array index: create a subarray whose indices come from another array\n",
    "import numpy as np\n",
    "data_ary = np.array([0, 2, 4, 6, 8, 10])\n",
    "idx_ary = [0, 4, 5]\n",
    "# What values will be printed?\n",
    "print(data_ary[idx_ary])"
   ]
  },
  {
   "cell_type": "code",
   "execution_count": 6,
   "metadata": {},
   "outputs": [
    {
     "name": "stdout",
     "output_type": "stream",
     "text": [
      "[ True  True False False False False]\n",
      "[1 3]\n"
     ]
    }
   ],
   "source": [
    "# Boolean indexing: select values that satisfies some condition\n",
    "ary = np.array([1, 3, -5, -2, 0, -1])\n",
    "idx = (ary > 0)\n",
    "# What will be printed?\n",
    "print(idx)\n",
    "print(ary[idx])"
   ]
  },
  {
   "cell_type": "code",
   "execution_count": 7,
   "metadata": {},
   "outputs": [
    {
     "name": "stdout",
     "output_type": "stream",
     "text": [
      "[False False  True  True False  True]\n",
      "[-5 -2 -1]\n"
     ]
    }
   ],
   "source": [
    "ary = np.array([1, 3, -5, -2, 0, -1])\n",
    "idx = (ary<0)\n",
    "print(idx)\n",
    "print(ary[idx])"
   ]
  },
  {
   "cell_type": "markdown",
   "metadata": {},
   "source": [
    "## Array Math\n",
    "Basic mathematical functions operate elementwise on the arrays."
   ]
  },
  {
   "cell_type": "code",
   "execution_count": 8,
   "metadata": {},
   "outputs": [
    {
     "name": "stdout",
     "output_type": "stream",
     "text": [
      "[[2 3 4]\n",
      " [5 6 7]]\n"
     ]
    }
   ],
   "source": [
    "x = np.array([[1, 2, 3],\n",
    "              [4, 5, 6]])\n",
    "print(x + 1)"
   ]
  },
  {
   "cell_type": "code",
   "execution_count": 9,
   "metadata": {},
   "outputs": [
    {
     "name": "stdout",
     "output_type": "stream",
     "text": [
      "[[ 2  4  6]\n",
      " [ 8 10 12]]\n"
     ]
    }
   ],
   "source": [
    "print(x * 2)"
   ]
  },
  {
   "cell_type": "code",
   "execution_count": 10,
   "metadata": {},
   "outputs": [
    {
     "name": "stdout",
     "output_type": "stream",
     "text": [
      "[[11 22 33]\n",
      " [44 55 66]]\n"
     ]
    }
   ],
   "source": [
    "y = np.array([[10, 20, 30],\n",
    "              [40, 50, 60]])\n",
    "print(x + y)"
   ]
  },
  {
   "cell_type": "code",
   "execution_count": 11,
   "metadata": {},
   "outputs": [
    {
     "name": "stdout",
     "output_type": "stream",
     "text": [
      "[[ 10  40  90]\n",
      " [160 250 360]]\n"
     ]
    }
   ],
   "source": [
    "print(x * y)"
   ]
  },
  {
   "cell_type": "markdown",
   "metadata": {},
   "source": [
    "## NumPy Math Functions\n",
    "NumPy provides many math functions that are fully compatible with NumPy arrays"
   ]
  },
  {
   "cell_type": "code",
   "execution_count": 16,
   "metadata": {},
   "outputs": [
    {
     "name": "stdout",
     "output_type": "stream",
     "text": [
      "[ 1  2  3  4  5  6  7  8  9 10]\n",
      "[1.         1.41421356 1.73205081 2.         2.23606798 2.44948974\n",
      " 2.64575131 2.82842712 3.         3.16227766]\n"
     ]
    }
   ],
   "source": [
    "# Calculate the square-root of 1, 2, ..., 10\n",
    "ary = np.arange(1, 11)\n",
    "print(ary)\n",
    "ary2 = np.sqrt(ary)\n",
    "print(ary2)"
   ]
  },
  {
   "cell_type": "code",
   "execution_count": 17,
   "metadata": {},
   "outputs": [
    {
     "name": "stdout",
     "output_type": "stream",
     "text": [
      "Minimum: 12\n",
      "Maximum: 90\n",
      "Mean: 54.0\n",
      "Variance: 808.0\n",
      "Standard deviation: 28.42534080710379\n"
     ]
    }
   ],
   "source": [
    "# Statistical functions\n",
    "data = np.array([12, 34, 56, 78, 90])\n",
    "print(\"Minimum:\", data.min())\n",
    "print(\"Maximum:\", data.max())\n",
    "print(\"Mean:\", data.mean())\n",
    "print(\"Variance:\", data.var())\n",
    "print(\"Standard deviation:\", data.std())"
   ]
  },
  {
   "cell_type": "markdown",
   "metadata": {},
   "source": [
    "# Example: 80 Cereals - Nutrition data on 80 cereal products\n",
    "\n",
    "In this example, we will use NumPy to analyze a dataset that contains nutrition facts on 80 cereal products. In particular, we will:\n",
    "- Download and load the dataset.\n",
    "- Explore for interesting information\n",
    "- Examine sugar content\n",
    "\n",
    "The data file can be downloaded from [Kaggle.com](https://www.kaggle.com/crawford/80-cereals)\n",
    "\n",
    ">If you like to eat cereal, do yourself a favor and avoid this dataset at all costs. After seeing these data it will never be the same for me to eat Fruity Pebbles again. - Kaggle\n",
    "\n",
    "- Download the zip file from Kaggle (login required)\n",
    "- Unzip to get `cereal.csv` file\n",
    "- Move the csv file to a proper folder\n",
    "- Open the csv file using notepad and excel to examine its content"
   ]
  },
  {
   "cell_type": "markdown",
   "metadata": {},
   "source": [
    "## Load And Examine The Data"
   ]
  },
  {
   "cell_type": "code",
   "execution_count": 16,
   "metadata": {},
   "outputs": [],
   "source": [
    "# Load the csv file with np.loadtxt()\n",
    "# Spoiler alert: in the next chapter we will learn a more user-friendly\n",
    "# way of loading data.\n",
    "raw_data = np.loadtxt('cereal.csv', delimiter=\",\", dtype='str')"
   ]
  },
  {
   "cell_type": "code",
   "execution_count": 17,
   "metadata": {},
   "outputs": [
    {
     "name": "stdout",
     "output_type": "stream",
     "text": [
      "[['name' 'mfr' 'type' ... 'weight' 'cups' 'rating']\n",
      " ['100% Bran' 'N' 'C' ... '1' '0.33' '68.402973']\n",
      " ['100% Natural Bran' 'Q' 'C' ... '1' '1' '33.983679']\n",
      " ...\n",
      " ['Wheat Chex' 'R' 'C' ... '1' '0.67' '49.787445']\n",
      " ['Wheaties' 'G' 'C' ... '1' '1' '51.592193']\n",
      " ['Wheaties Honey Gold' 'G' 'C' ... '1' '0.75' '36.187559']]\n"
     ]
    }
   ],
   "source": [
    "# Show values in raw_data\n",
    "print(raw_data)"
   ]
  },
  {
   "cell_type": "code",
   "execution_count": 18,
   "metadata": {},
   "outputs": [
    {
     "name": "stdout",
     "output_type": "stream",
     "text": [
      "(78, 16)\n"
     ]
    }
   ],
   "source": [
    "# Ex: What is the shape of raw_data?\n",
    "print(raw_data.shape)"
   ]
  },
  {
   "cell_type": "code",
   "execution_count": 44,
   "metadata": {},
   "outputs": [
    {
     "name": "stdout",
     "output_type": "stream",
     "text": [
      "['name' 'mfr' 'type' 'calories' 'protein' 'fat' 'sodium' 'fiber' 'carbo'\n",
      " 'sugars' 'potass' 'vitamins' 'shelf' 'weight' 'cups' 'rating']\n"
     ]
    }
   ],
   "source": [
    "# Ex: Create a list of feature names (call it feature_names)\n",
    "feature_names = raw_data[0]\n",
    "print(feature_names)"
   ]
  },
  {
   "cell_type": "code",
   "execution_count": 19,
   "metadata": {},
   "outputs": [
    {
     "name": "stdout",
     "output_type": "stream",
     "text": [
      "[['100% Bran' 'N' 'C' ... '1' '0.33' '68.402973']\n",
      " ['100% Natural Bran' 'Q' 'C' ... '1' '1' '33.983679']\n",
      " ['All-Bran' 'K' 'C' ... '1' '0.33' '59.425505']\n",
      " ...\n",
      " ['Wheat Chex' 'R' 'C' ... '1' '0.67' '49.787445']\n",
      " ['Wheaties' 'G' 'C' ... '1' '1' '51.592193']\n",
      " ['Wheaties Honey Gold' 'G' 'C' ... '1' '0.75' '36.187559']]\n"
     ]
    }
   ],
   "source": [
    "# Split raw_data into feature_names and data\n",
    "data = raw_data[1:,:]\n",
    "print(data)"
   ]
  },
  {
   "cell_type": "markdown",
   "metadata": {},
   "source": [
    "## Explore The Contents"
   ]
  },
  {
   "cell_type": "code",
   "execution_count": 20,
   "metadata": {},
   "outputs": [
    {
     "name": "stdout",
     "output_type": "stream",
     "text": [
      "['100% Bran' '100% Natural Bran' 'All-Bran' 'All-Bran with Extra Fiber'\n",
      " 'Almond Delight' 'Apple Cinnamon Cheerios' 'Apple Jacks' 'Basic 4'\n",
      " 'Bran Chex' 'Bran Flakes' \"Cap'n'Crunch\" 'Cheerios'\n",
      " 'Cinnamon Toast Crunch' 'Clusters' 'Cocoa Puffs' 'Corn Chex'\n",
      " 'Corn Flakes' 'Corn Pops' 'Count Chocula' \"Cracklin' Oat Bran\"\n",
      " 'Cream of Wheat (Quick)' 'Crispix' 'Crispy Wheat & Raisins' 'Double Chex'\n",
      " 'Froot Loops' 'Frosted Flakes' 'Frosted Mini-Wheats'\n",
      " 'Fruit & Fibre Dates; Walnuts; and Oats' 'Fruitful Bran' 'Fruity Pebbles'\n",
      " 'Golden Crisp' 'Golden Grahams' 'Grape Nuts Flakes' 'Grape-Nuts'\n",
      " 'Great Grains Pecan' 'Honey Graham Ohs' 'Honey Nut Cheerios' 'Honey-comb'\n",
      " 'Just Right Crunchy  Nuggets' 'Just Right Fruit & Nut' 'Kix' 'Life'\n",
      " 'Lucky Charms' 'Maypo' 'Muesli Raisins; Dates; & Almonds'\n",
      " 'Muesli Raisins; Peaches; & Pecans' 'Mueslix Crispy Blend'\n",
      " 'Multi-Grain Cheerios' 'Nut&Honey Crunch' 'Nutri-Grain Almond-Raisin'\n",
      " 'Nutri-grain Wheat' 'Oatmeal Raisin Crisp' 'Post Nat. Raisin Bran'\n",
      " 'Product 19' 'Puffed Rice' 'Puffed Wheat' 'Quaker Oat Squares'\n",
      " 'Quaker Oatmeal' 'Raisin Bran' 'Raisin Nut Bran' 'Raisin Squares'\n",
      " 'Rice Chex' 'Rice Krispies' 'Shredded Wheat' \"Shredded Wheat 'n'Bran\"\n",
      " 'Shredded Wheat spoon size' 'Smacks' 'Special K'\n",
      " 'Strawberry Fruit Wheats' 'Total Corn Flakes' 'Total Raisin Bran'\n",
      " 'Total Whole Grain' 'Triples' 'Trix' 'Wheat Chex' 'Wheaties'\n",
      " 'Wheaties Honey Gold']\n"
     ]
    }
   ],
   "source": [
    "# Display the list of cereal names\n",
    "cereal_names = data[:,0]\n",
    "print(cereal_names)"
   ]
  },
  {
   "cell_type": "code",
   "execution_count": 22,
   "metadata": {},
   "outputs": [
    {
     "name": "stdout",
     "output_type": "stream",
     "text": [
      "['68.402973' '33.983679' '59.425505' '93.704912' '34.384843' '29.509541'\n",
      " '33.174094' '37.038562' '49.120253' '53.313813' '18.042851' '50.764999'\n",
      " '19.823573' '40.400208' '22.736446' '41.445019' '45.863324' '35.782791'\n",
      " '22.396513' '40.448772' '64.533816' '46.895644' '36.176196' '44.330856'\n",
      " '32.207582' '31.435973' '58.345141' '40.917047' '41.015492' '28.025765'\n",
      " '35.252444' '23.804043' '52.076897' '53.371007' '45.811716' '21.871292'\n",
      " '31.072217' '28.742414' '36.523683' '36.471512' '39.241114' '45.328074'\n",
      " '26.734515' '54.850917' '37.136863' '34.139765' '30.313351' '40.105965'\n",
      " '29.924285' '40.692320' '59.642837' '30.450843' '37.840594' '41.503540'\n",
      " '60.756112' '63.005645' '49.511874' '50.828392' '39.259197' '39.703400'\n",
      " '55.333142' '41.998933' '40.560159' '68.235885' '74.472949' '72.801787'\n",
      " '31.230054' '53.131324' '59.363993' '38.839746' '28.592785' '46.658844'\n",
      " '39.106174' '27.753301' '49.787445' '51.592193' '36.187559']\n"
     ]
    }
   ],
   "source": [
    "# Display the list of cereal ratings\n",
    "cereal_ratings = data[:,-1]\n",
    "print(cereal_ratings)"
   ]
  },
  {
   "cell_type": "code",
   "execution_count": 24,
   "metadata": {},
   "outputs": [
    {
     "name": "stdout",
     "output_type": "stream",
     "text": [
      "93.704912\n"
     ]
    }
   ],
   "source": [
    "# What is the highest rating?\n",
    "highest_rating = max(data[:,-1])\n",
    "print(highest_rating)"
   ]
  },
  {
   "cell_type": "code",
   "execution_count": 27,
   "metadata": {},
   "outputs": [
    {
     "name": "stdout",
     "output_type": "stream",
     "text": [
      "93.704912\n"
     ]
    }
   ],
   "source": [
    "#waht is the highest rating another approch\n",
    "cereal_rating_float = cereal_ratings.astype(float)\n",
    "print(max(cereal_rating_float))"
   ]
  },
  {
   "cell_type": "code",
   "execution_count": 28,
   "metadata": {},
   "outputs": [
    {
     "name": "stdout",
     "output_type": "stream",
     "text": [
      "3\n"
     ]
    }
   ],
   "source": [
    "# Which cereal receives the highest rating?\n",
    "row_index_highest_rating = np.argmax(cereal_rating_float)\n",
    "print(row_index_highest_rating)"
   ]
  },
  {
   "cell_type": "code",
   "execution_count": 30,
   "metadata": {},
   "outputs": [
    {
     "name": "stdout",
     "output_type": "stream",
     "text": [
      "All-Bran with Extra Fiber\n"
     ]
    }
   ],
   "source": [
    "# find the name of the cereal receiving highest rating\n",
    "cereal_highest_rating_name = data[row_index_highest_rating,0]\n",
    "print(cereal_highest_rating_name)"
   ]
  },
  {
   "cell_type": "code",
   "execution_count": 35,
   "metadata": {},
   "outputs": [
    {
     "name": "stdout",
     "output_type": "stream",
     "text": [
      "[ True False False  True False False False False False False False False\n",
      " False False False False False False False False  True False False False\n",
      " False False False False False False False False False False False False\n",
      " False False False False False False False False False False False False\n",
      " False False False False False False  True  True False False False False\n",
      " False False False  True  True  True False False False False False False\n",
      " False False False False False]\n",
      "8\n",
      "['100% Bran' 'All-Bran with Extra Fiber' 'Cream of Wheat (Quick)'\n",
      " 'Puffed Rice' 'Puffed Wheat' 'Shredded Wheat' \"Shredded Wheat 'n'Bran\"\n",
      " 'Shredded Wheat spoon size']\n"
     ]
    }
   ],
   "source": [
    "# How many cereals receive rating above 60? What are they?\n",
    "cereal_above_60 = (cereal_rating_float>60)\n",
    "print(cereal_above_60)\n",
    "print(sum(cereal_above_60))\n",
    "print(data[cereal_rating_float>60, 0])"
   ]
  },
  {
   "cell_type": "code",
   "execution_count": 36,
   "metadata": {},
   "outputs": [
    {
     "name": "stdout",
     "output_type": "stream",
     "text": [
      "42.66570498701299\n"
     ]
    }
   ],
   "source": [
    "# What is the average rating?\n",
    "print(cereal_rating_float.mean())\n"
   ]
  },
  {
   "cell_type": "markdown",
   "metadata": {},
   "source": [
    "## Sugar"
   ]
  },
  {
   "cell_type": "code",
   "execution_count": 45,
   "metadata": {},
   "outputs": [
    {
     "name": "stdout",
     "output_type": "stream",
     "text": [
      "[['6']\n",
      " ['8']\n",
      " ['5']\n",
      " ['0']\n",
      " ['8']\n",
      " ['10']\n",
      " ['14']\n",
      " ['8']\n",
      " ['6']\n",
      " ['5']\n",
      " ['12']\n",
      " ['1']\n",
      " ['9']\n",
      " ['7']\n",
      " ['13']\n",
      " ['3']\n",
      " ['2']\n",
      " ['12']\n",
      " ['13']\n",
      " ['7']\n",
      " ['0']\n",
      " ['3']\n",
      " ['10']\n",
      " ['5']\n",
      " ['13']\n",
      " ['11']\n",
      " ['7']\n",
      " ['10']\n",
      " ['12']\n",
      " ['12']\n",
      " ['15']\n",
      " ['9']\n",
      " ['5']\n",
      " ['3']\n",
      " ['4']\n",
      " ['11']\n",
      " ['10']\n",
      " ['11']\n",
      " ['6']\n",
      " ['9']\n",
      " ['3']\n",
      " ['6']\n",
      " ['12']\n",
      " ['3']\n",
      " ['11']\n",
      " ['11']\n",
      " ['13']\n",
      " ['6']\n",
      " ['9']\n",
      " ['7']\n",
      " ['2']\n",
      " ['10']\n",
      " ['14']\n",
      " ['3']\n",
      " ['0']\n",
      " ['0']\n",
      " ['6']\n",
      " ['-1']\n",
      " ['12']\n",
      " ['8']\n",
      " ['6']\n",
      " ['2']\n",
      " ['3']\n",
      " ['0']\n",
      " ['0']\n",
      " ['0']\n",
      " ['15']\n",
      " ['3']\n",
      " ['5']\n",
      " ['3']\n",
      " ['14']\n",
      " ['3']\n",
      " ['3']\n",
      " ['12']\n",
      " ['3']\n",
      " ['3']\n",
      " ['8']]\n"
     ]
    }
   ],
   "source": [
    "# Display the list of sugar per serving\n",
    "print(data[:, (feature_names == \"sugars\")])"
   ]
  },
  {
   "cell_type": "code",
   "execution_count": 47,
   "metadata": {},
   "outputs": [
    {
     "name": "stdout",
     "output_type": "stream",
     "text": [
      "[['1']\n",
      " ['1']\n",
      " ['1']\n",
      " ['1']\n",
      " ['1']\n",
      " ['1']\n",
      " ['1']\n",
      " ['1.33']\n",
      " ['1']\n",
      " ['1']\n",
      " ['1']\n",
      " ['1']\n",
      " ['1']\n",
      " ['1']\n",
      " ['1']\n",
      " ['1']\n",
      " ['1']\n",
      " ['1']\n",
      " ['1']\n",
      " ['1']\n",
      " ['1']\n",
      " ['1']\n",
      " ['1']\n",
      " ['1']\n",
      " ['1']\n",
      " ['1']\n",
      " ['1']\n",
      " ['1.25']\n",
      " ['1.33']\n",
      " ['1']\n",
      " ['1']\n",
      " ['1']\n",
      " ['1']\n",
      " ['1']\n",
      " ['1']\n",
      " ['1']\n",
      " ['1']\n",
      " ['1']\n",
      " ['1']\n",
      " ['1.3']\n",
      " ['1']\n",
      " ['1']\n",
      " ['1']\n",
      " ['1']\n",
      " ['1']\n",
      " ['1']\n",
      " ['1.5']\n",
      " ['1']\n",
      " ['1']\n",
      " ['1.33']\n",
      " ['1']\n",
      " ['1.25']\n",
      " ['1.33']\n",
      " ['1']\n",
      " ['0.5']\n",
      " ['0.5']\n",
      " ['1']\n",
      " ['1']\n",
      " ['1.33']\n",
      " ['1']\n",
      " ['1']\n",
      " ['1']\n",
      " ['1']\n",
      " ['0.83']\n",
      " ['1']\n",
      " ['1']\n",
      " ['1']\n",
      " ['1']\n",
      " ['1']\n",
      " ['1']\n",
      " ['1.5']\n",
      " ['1']\n",
      " ['1']\n",
      " ['1']\n",
      " ['1']\n",
      " ['1']\n",
      " ['1']]\n"
     ]
    }
   ],
   "source": [
    "# Display the list of weight per serving\n",
    "print(data[:, (feature_names == \"weight\")])"
   ]
  },
  {
   "cell_type": "code",
   "execution_count": 48,
   "metadata": {},
   "outputs": [
    {
     "name": "stdout",
     "output_type": "stream",
     "text": [
      "[[ 6.        ]\n",
      " [ 8.        ]\n",
      " [ 5.        ]\n",
      " [ 0.        ]\n",
      " [ 8.        ]\n",
      " [10.        ]\n",
      " [14.        ]\n",
      " [ 6.01503759]\n",
      " [ 6.        ]\n",
      " [ 5.        ]\n",
      " [12.        ]\n",
      " [ 1.        ]\n",
      " [ 9.        ]\n",
      " [ 7.        ]\n",
      " [13.        ]\n",
      " [ 3.        ]\n",
      " [ 2.        ]\n",
      " [12.        ]\n",
      " [13.        ]\n",
      " [ 7.        ]\n",
      " [ 0.        ]\n",
      " [ 3.        ]\n",
      " [10.        ]\n",
      " [ 5.        ]\n",
      " [13.        ]\n",
      " [11.        ]\n",
      " [ 7.        ]\n",
      " [ 8.        ]\n",
      " [ 9.02255639]\n",
      " [12.        ]\n",
      " [15.        ]\n",
      " [ 9.        ]\n",
      " [ 5.        ]\n",
      " [ 3.        ]\n",
      " [ 4.        ]\n",
      " [11.        ]\n",
      " [10.        ]\n",
      " [11.        ]\n",
      " [ 6.        ]\n",
      " [ 6.92307692]\n",
      " [ 3.        ]\n",
      " [ 6.        ]\n",
      " [12.        ]\n",
      " [ 3.        ]\n",
      " [11.        ]\n",
      " [11.        ]\n",
      " [ 8.66666667]\n",
      " [ 6.        ]\n",
      " [ 9.        ]\n",
      " [ 5.26315789]\n",
      " [ 2.        ]\n",
      " [ 8.        ]\n",
      " [10.52631579]\n",
      " [ 3.        ]\n",
      " [ 0.        ]\n",
      " [ 0.        ]\n",
      " [ 6.        ]\n",
      " [-1.        ]\n",
      " [ 9.02255639]\n",
      " [ 8.        ]\n",
      " [ 6.        ]\n",
      " [ 2.        ]\n",
      " [ 3.        ]\n",
      " [ 0.        ]\n",
      " [ 0.        ]\n",
      " [ 0.        ]\n",
      " [15.        ]\n",
      " [ 3.        ]\n",
      " [ 5.        ]\n",
      " [ 3.        ]\n",
      " [ 9.33333333]\n",
      " [ 3.        ]\n",
      " [ 3.        ]\n",
      " [12.        ]\n",
      " [ 3.        ]\n",
      " [ 3.        ]\n",
      " [ 8.        ]]\n"
     ]
    }
   ],
   "source": [
    "# Calculate sugar per ounce\n",
    "# sugar per ounce = sugar per serving / ounce per serving\n",
    "sugar_per_serving = data[:, (feature_names == \"sugars\")].astype(float)\n",
    "ounce_per_serving = data[:, (feature_names == \"weight\")].astype(float)\n",
    "sugar_per_ounce = sugar_per_serving / ounce_per_serving\n",
    "print(sugar_per_ounce)"
   ]
  },
  {
   "cell_type": "code",
   "execution_count": 51,
   "metadata": {},
   "outputs": [
    {
     "name": "stdout",
     "output_type": "stream",
     "text": [
      "Highest sugar per ounce: 15.0\n",
      "Index of this product: 30\n",
      "Name of this product: Golden Crisp\n"
     ]
    }
   ],
   "source": [
    "# Which product has the highest amount of sugar per ounce?\n",
    "print(\"Highest sugar per ounce:\", sugar_per_serving.max())\n",
    "print(\"Index of this product:\", np.argmax(sugar_per_serving))\n",
    "print(\"Name of this product:\", data[30, 0])"
   ]
  },
  {
   "cell_type": "code",
   "execution_count": null,
   "metadata": {},
   "outputs": [],
   "source": []
  },
  {
   "cell_type": "code",
   "execution_count": null,
   "metadata": {},
   "outputs": [],
   "source": []
  }
 ],
 "metadata": {
  "kernelspec": {
   "display_name": "Python 3",
   "language": "python",
   "name": "python3"
  },
  "language_info": {
   "codemirror_mode": {
    "name": "ipython",
    "version": 3
   },
   "file_extension": ".py",
   "mimetype": "text/x-python",
   "name": "python",
   "nbconvert_exporter": "python",
   "pygments_lexer": "ipython3",
   "version": "3.8.3"
  }
 },
 "nbformat": 4,
 "nbformat_minor": 4
}
