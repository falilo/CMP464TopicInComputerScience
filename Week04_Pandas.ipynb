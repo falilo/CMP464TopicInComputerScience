{
 "cells": [
  {
   "cell_type": "markdown",
   "metadata": {},
   "source": [
    "# Week 4\n",
    "# Pandas Data Frames (Part 1)\n",
    "\n",
    "[Pandas](https://pandas.pydata.org/) is a major tool for data scientists on Python. It contains data structures and data manipulation tools designed to make data cleaning and analysis fast and easy.\n",
    "\n",
    "References:\n",
    "- Textbook Chapter 5: Getting Started with Pandas\n",
    "- [Pandas User Guide](https://pandas.pydata.org/docs/user_guide/index.html)\n",
    "- [Pandas Exercises on W3Resources](https://www.w3resource.com/python-exercises/pandas/index.php)"
   ]
  },
  {
   "cell_type": "code",
   "execution_count": null,
   "metadata": {},
   "outputs": [],
   "source": [
    "import numpy as np\n",
    "import pandas as pd # pd is the universally-used abbreviation"
   ]
  },
  {
   "cell_type": "markdown",
   "metadata": {},
   "source": [
    "Pandas provides two data types that extend numpy arrays:\n",
    "- Data Series: extending 1D array, used to represent a single feature\n",
    "- Data Frame: extending 2D array, used to represent a data table\n",
    "\n",
    "We will focus on data frames today, as most data sets are stored in table format."
   ]
  },
  {
   "cell_type": "code",
   "execution_count": 5,
   "metadata": {},
   "outputs": [
    {
     "data": {
      "text/html": [
       "<div>\n",
       "<style scoped>\n",
       "    .dataframe tbody tr th:only-of-type {\n",
       "        vertical-align: middle;\n",
       "    }\n",
       "\n",
       "    .dataframe tbody tr th {\n",
       "        vertical-align: top;\n",
       "    }\n",
       "\n",
       "    .dataframe thead th {\n",
       "        text-align: right;\n",
       "    }\n",
       "</style>\n",
       "<table border=\"1\" class=\"dataframe\">\n",
       "  <thead>\n",
       "    <tr style=\"text-align: right;\">\n",
       "      <th></th>\n",
       "      <th>Feature1</th>\n",
       "      <th>Feature2</th>\n",
       "      <th>Feature3</th>\n",
       "    </tr>\n",
       "  </thead>\n",
       "  <tbody>\n",
       "    <tr>\n",
       "      <th>0</th>\n",
       "      <td>0.988552</td>\n",
       "      <td>0.201237</td>\n",
       "      <td>0.878205</td>\n",
       "    </tr>\n",
       "    <tr>\n",
       "      <th>1</th>\n",
       "      <td>0.202654</td>\n",
       "      <td>0.884357</td>\n",
       "      <td>0.838927</td>\n",
       "    </tr>\n",
       "    <tr>\n",
       "      <th>2</th>\n",
       "      <td>0.421296</td>\n",
       "      <td>0.159520</td>\n",
       "      <td>0.216521</td>\n",
       "    </tr>\n",
       "    <tr>\n",
       "      <th>3</th>\n",
       "      <td>0.727226</td>\n",
       "      <td>0.369578</td>\n",
       "      <td>0.029301</td>\n",
       "    </tr>\n",
       "    <tr>\n",
       "      <th>4</th>\n",
       "      <td>0.596383</td>\n",
       "      <td>0.283818</td>\n",
       "      <td>0.536084</td>\n",
       "    </tr>\n",
       "  </tbody>\n",
       "</table>\n",
       "</div>"
      ],
      "text/plain": [
       "   Feature1  Feature2  Feature3\n",
       "0  0.988552  0.201237  0.878205\n",
       "1  0.202654  0.884357  0.838927\n",
       "2  0.421296  0.159520  0.216521\n",
       "3  0.727226  0.369578  0.029301\n",
       "4  0.596383  0.283818  0.536084"
      ]
     },
     "execution_count": 5,
     "metadata": {},
     "output_type": "execute_result"
    }
   ],
   "source": [
    "#Define a DataFrame from scratch\n",
    "import numpy as np\n",
    "import pandas as pd\n",
    "df1 = pd.DataFrame(np.random.rand(5, 3),\n",
    "                   columns=['Feature1', 'Feature2', 'Feature3'])\n",
    "df1\n",
    "df1.head() # prints the first several rows"
   ]
  },
  {
   "cell_type": "code",
   "execution_count": 6,
   "metadata": {},
   "outputs": [
    {
     "name": "stdout",
     "output_type": "stream",
     "text": [
      "(5, 3)\n"
     ]
    }
   ],
   "source": [
    "# Print the shape of the data frame\n",
    "print(df1.shape)"
   ]
  },
  {
   "cell_type": "code",
   "execution_count": 7,
   "metadata": {
    "scrolled": true
   },
   "outputs": [
    {
     "name": "stdout",
     "output_type": "stream",
     "text": [
      "RangeIndex(start=0, stop=5, step=1)\n",
      "[0 1 2 3 4]\n"
     ]
    }
   ],
   "source": [
    "# Row indices\n",
    "print(df1.index)\n",
    "print(df1.index.values)"
   ]
  },
  {
   "cell_type": "code",
   "execution_count": 8,
   "metadata": {},
   "outputs": [
    {
     "name": "stdout",
     "output_type": "stream",
     "text": [
      "Index(['Feature1', 'Feature2', 'Feature3'], dtype='object')\n",
      "['Feature1' 'Feature2' 'Feature3']\n"
     ]
    }
   ],
   "source": [
    "# Column indices\n",
    "print(df1.columns)\n",
    "print(df1.columns.values)"
   ]
  },
  {
   "cell_type": "code",
   "execution_count": 10,
   "metadata": {},
   "outputs": [
    {
     "name": "stdout",
     "output_type": "stream",
     "text": [
      "0.9885522080792556\n",
      "0.15951975061484913\n"
     ]
    }
   ],
   "source": [
    "# Access elements using .loc[row_index, col_index]\n",
    "# Ex: Print the Feature1 value on the first row\n",
    "print(df1.loc[0, \"Feature1\"])\n",
    "print(df1.loc[2, \"Feature2\"])"
   ]
  },
  {
   "cell_type": "code",
   "execution_count": 12,
   "metadata": {},
   "outputs": [
    {
     "name": "stdout",
     "output_type": "stream",
     "text": [
      "0    0.201237\n",
      "1    0.884357\n",
      "2    0.159520\n",
      "3    0.369578\n",
      "4    0.283818\n",
      "Name: Feature2, dtype: float64\n"
     ]
    }
   ],
   "source": [
    "# Index slicing\n",
    "# Ex: Print the Feature2 value for the first 3 rows\n",
    "print(df1.loc[:,\"Feature2\"])"
   ]
  },
  {
   "cell_type": "code",
   "execution_count": 13,
   "metadata": {},
   "outputs": [
    {
     "name": "stdout",
     "output_type": "stream",
     "text": [
      "   Feature1  Feature2\n",
      "2  0.421296  0.159520\n",
      "3  0.727226  0.369578\n",
      "4  0.596383  0.283818\n"
     ]
    }
   ],
   "source": [
    "# Ex: Print the Feature2 and Feature3 values for the last 3 rows\n",
    "# .loc[] does not support negative index\n",
    "print(df1.loc[2:4, ['Feature1', 'Feature2']])"
   ]
  },
  {
   "cell_type": "code",
   "execution_count": 14,
   "metadata": {},
   "outputs": [
    {
     "name": "stdout",
     "output_type": "stream",
     "text": [
      "[False False  True  True  True]\n",
      "   Feature1  Feature2  Feature3\n",
      "2  0.421296  0.159520  0.216521\n",
      "3  0.727226  0.369578  0.029301\n",
      "4  0.596383  0.283818  0.536084\n"
     ]
    }
   ],
   "source": [
    "# Ex: Use boolean indexing to extract the last 3 rows\n",
    "row_indices = (df1.index >= 2)\n",
    "print(row_indices)\n",
    "print(df1.loc[row_indices, :])"
   ]
  },
  {
   "cell_type": "markdown",
   "metadata": {},
   "source": [
    "## Basic Table Operations\n",
    "- Change a value \n",
    "- Add a new row\n",
    "- Add a new column\n",
    "- Remove a row\n",
    "- Remove a column"
   ]
  },
  {
   "cell_type": "code",
   "execution_count": 15,
   "metadata": {},
   "outputs": [
    {
     "data": {
      "text/html": [
       "<div>\n",
       "<style scoped>\n",
       "    .dataframe tbody tr th:only-of-type {\n",
       "        vertical-align: middle;\n",
       "    }\n",
       "\n",
       "    .dataframe tbody tr th {\n",
       "        vertical-align: top;\n",
       "    }\n",
       "\n",
       "    .dataframe thead th {\n",
       "        text-align: right;\n",
       "    }\n",
       "</style>\n",
       "<table border=\"1\" class=\"dataframe\">\n",
       "  <thead>\n",
       "    <tr style=\"text-align: right;\">\n",
       "      <th></th>\n",
       "      <th>Quiz1</th>\n",
       "      <th>Quiz2</th>\n",
       "      <th>Final</th>\n",
       "    </tr>\n",
       "  </thead>\n",
       "  <tbody>\n",
       "    <tr>\n",
       "      <th>Alice</th>\n",
       "      <td>60</td>\n",
       "      <td>70</td>\n",
       "      <td>80</td>\n",
       "    </tr>\n",
       "    <tr>\n",
       "      <th>Bob</th>\n",
       "      <td>66</td>\n",
       "      <td>88</td>\n",
       "      <td>77</td>\n",
       "    </tr>\n",
       "    <tr>\n",
       "      <th>Chris</th>\n",
       "      <td>100</td>\n",
       "      <td>60</td>\n",
       "      <td>30</td>\n",
       "    </tr>\n",
       "    <tr>\n",
       "      <th>David</th>\n",
       "      <td>85</td>\n",
       "      <td>87</td>\n",
       "      <td>83</td>\n",
       "    </tr>\n",
       "  </tbody>\n",
       "</table>\n",
       "</div>"
      ],
      "text/plain": [
       "       Quiz1  Quiz2  Final\n",
       "Alice     60     70     80\n",
       "Bob       66     88     77\n",
       "Chris    100     60     30\n",
       "David     85     87     83"
      ]
     },
     "execution_count": 15,
     "metadata": {},
     "output_type": "execute_result"
    }
   ],
   "source": [
    "data = [[60, 70, 80],\n",
    "        [66, 88, 77],\n",
    "        [100, 60, 30],\n",
    "        [85, 87, 83]]\n",
    "scores = pd.DataFrame(data,\n",
    "                      index=['Alice', 'Bob', 'Chris', 'David'],\n",
    "                      columns=['Quiz1', 'Quiz2', 'Final'])\n",
    "scores"
   ]
  },
  {
   "cell_type": "code",
   "execution_count": null,
   "metadata": {},
   "outputs": [],
   "source": [
    "# Change Alice's final score to 90.\n",
    "scores.loc['Alice', 'Final'] = 90\n",
    "scores"
   ]
  },
  {
   "cell_type": "code",
   "execution_count": null,
   "metadata": {},
   "outputs": [],
   "source": [
    "# Add a new row: \"Edward\": [77, 88, 99]\n",
    "scores.loc['Edward', :] = [77, 88, 99]\n",
    "scores"
   ]
  },
  {
   "cell_type": "code",
   "execution_count": null,
   "metadata": {},
   "outputs": [],
   "source": [
    "# Append a new data frame\n",
    "more_scores = pd.DataFrame(data={'Quiz1': [67, 76],\n",
    "                                 'Quiz2': [78, 87],\n",
    "                                 'Final': [89, 98]},\n",
    "                           index=['Flora', 'Gabriel']) # Represent data as a dictionary\n",
    "print(more_scores)\n",
    "total_scores = scores.append(more_scores) # append() creates a new data frame\n",
    "total_scores"
   ]
  },
  {
   "cell_type": "code",
   "execution_count": null,
   "metadata": {
    "scrolled": true
   },
   "outputs": [],
   "source": [
    "# Add a column \"ExtraCredit\"\n",
    "total_scores['ExtraCredit'] = [0, 1, 2, 3, 4, 5, 6]\n",
    "total_scores"
   ]
  },
  {
   "cell_type": "code",
   "execution_count": null,
   "metadata": {},
   "outputs": [],
   "source": [
    "# Add additional columns from another data frame\n",
    "# will be discussed in Chapter 8\n"
   ]
  },
  {
   "cell_type": "code",
   "execution_count": null,
   "metadata": {},
   "outputs": [],
   "source": [
    "# Remove record for Chris\n",
    "total_scores.drop('Chris') # drop() creates a new data frame\n",
    "\n"
   ]
  },
  {
   "cell_type": "code",
   "execution_count": null,
   "metadata": {},
   "outputs": [],
   "source": [
    "# Remove column \"ExtraCredit\"\n",
    "total_scores.drop('ExtraCredit', axis=1) # drop() creates a new data frame\n",
    "\n"
   ]
  },
  {
   "cell_type": "code",
   "execution_count": null,
   "metadata": {},
   "outputs": [],
   "source": [
    "# Remove both David and Flora\n",
    "total_scores.drop(['David', 'Flora'])"
   ]
  },
  {
   "cell_type": "markdown",
   "metadata": {},
   "source": [
    "## Table Arithmetics\n",
    "- Perform an operation uniformly to all values in a column\n",
    "- Arithmetics with multiple columns\n",
    "- Calculate statistics\n",
    "- Apply a user-defined function to all rows"
   ]
  },
  {
   "cell_type": "code",
   "execution_count": null,
   "metadata": {},
   "outputs": [],
   "source": [
    "# Double the extra credits\n",
    "\n"
   ]
  },
  {
   "cell_type": "code",
   "execution_count": null,
   "metadata": {},
   "outputs": [],
   "source": [
    "# Calculate grades:\n",
    "#   Grades = Quiz1 * 25% + Quiz2 * 25% + Final * 50% + ExtraCredit\n"
   ]
  },
  {
   "cell_type": "code",
   "execution_count": null,
   "metadata": {},
   "outputs": [],
   "source": [
    "# Ex: Curve the grades:\n",
    "# Formula: CurvedGrades = sqrt(Grades) * 10\n",
    "\n"
   ]
  },
  {
   "cell_type": "code",
   "execution_count": null,
   "metadata": {},
   "outputs": [],
   "source": [
    "# Calculate the min, max, mean, median, variance, and std of the final grades\n",
    "\n"
   ]
  },
  {
   "cell_type": "code",
   "execution_count": null,
   "metadata": {},
   "outputs": [],
   "source": [
    "# Ex: Define a function num2letter() that converts a numerical grade to a letter grade.\n",
    "# For example, num2letter(95) returns 'A', num2letter(59) returns 'F'\n",
    "\n"
   ]
  },
  {
   "cell_type": "code",
   "execution_count": null,
   "metadata": {},
   "outputs": [],
   "source": [
    "# Apply the function to the final grade column\n",
    "\n"
   ]
  },
  {
   "cell_type": "markdown",
   "metadata": {},
   "source": [
    "## Example: Revisit 80 Cereal Data\n",
    "\n",
    "Using Pandas and DataFrame, let repeat our analysis of the 80 Cereal Data:\n",
    "- Load the csv file using `pd.read_csv()`\n",
    "- Examine the data\n",
    "- Explore the ratings\n",
    "- Analyze sugar contents"
   ]
  },
  {
   "cell_type": "code",
   "execution_count": null,
   "metadata": {},
   "outputs": [],
   "source": [
    "# Load the dataset\n",
    "raw_data = pd.read_csv('cereal.csv') \n",
    "raw_data.head() # by default, column names come from the first row, and integer indexing is used."
   ]
  },
  {
   "cell_type": "code",
   "execution_count": null,
   "metadata": {},
   "outputs": [],
   "source": [
    "# Display the shape\n",
    "\n"
   ]
  },
  {
   "cell_type": "code",
   "execution_count": null,
   "metadata": {},
   "outputs": [],
   "source": [
    "# Display the columns\n",
    "\n"
   ]
  },
  {
   "cell_type": "code",
   "execution_count": null,
   "metadata": {},
   "outputs": [],
   "source": [
    "# Display the data types\n",
    "\n"
   ]
  },
  {
   "cell_type": "code",
   "execution_count": null,
   "metadata": {},
   "outputs": [],
   "source": [
    "# Display all cereal names\n",
    "\n"
   ]
  },
  {
   "cell_type": "code",
   "execution_count": null,
   "metadata": {},
   "outputs": [],
   "source": [
    "# Display all cereal ratings\n",
    "\n"
   ]
  },
  {
   "cell_type": "code",
   "execution_count": null,
   "metadata": {},
   "outputs": [],
   "source": [
    "# Find the product name with highest rating\n",
    "\n"
   ]
  },
  {
   "cell_type": "code",
   "execution_count": null,
   "metadata": {},
   "outputs": [],
   "source": [
    "# Display all cereals with rating above 60\n",
    "\n"
   ]
  },
  {
   "cell_type": "code",
   "execution_count": null,
   "metadata": {},
   "outputs": [],
   "source": [
    "# Calculate sugar per ounce\n",
    "# sugar per ounce = sugar per serving / ounce per serving\n",
    "\n"
   ]
  },
  {
   "cell_type": "code",
   "execution_count": null,
   "metadata": {},
   "outputs": [],
   "source": [
    "# Which product has the highest amount of sugar per ounce?\n",
    "\n"
   ]
  },
  {
   "cell_type": "code",
   "execution_count": null,
   "metadata": {},
   "outputs": [],
   "source": [
    "os.get.cwd()"
   ]
  }
 ],
 "metadata": {
  "kernelspec": {
   "display_name": "Python 3",
   "language": "python",
   "name": "python3"
  },
  "language_info": {
   "codemirror_mode": {
    "name": "ipython",
    "version": 3
   },
   "file_extension": ".py",
   "mimetype": "text/x-python",
   "name": "python",
   "nbconvert_exporter": "python",
   "pygments_lexer": "ipython3",
   "version": "3.8.3"
  }
 },
 "nbformat": 4,
 "nbformat_minor": 4
}
