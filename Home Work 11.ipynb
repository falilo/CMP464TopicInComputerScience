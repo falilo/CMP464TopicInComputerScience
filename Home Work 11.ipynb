{
 "cells": [
  {
   "cell_type": "markdown",
   "metadata": {},
   "source": [
    "# 1. Use regular expression to extract the phone number from the following strings:"
   ]
  },
  {
   "cell_type": "code",
   "execution_count": 44,
   "metadata": {},
   "outputs": [],
   "source": [
    "import numpy as np\n",
    "import pandas as pd\n",
    "import matplotlib.pyplot as plt\n",
    "import re\n",
    "%matplotlib inline"
   ]
  },
  {
   "cell_type": "code",
   "execution_count": 56,
   "metadata": {},
   "outputs": [
    {
     "name": "stdout",
     "output_type": "stream",
     "text": [
      "347-123-4567\n",
      "917-987-6543\n"
     ]
    }
   ],
   "source": [
    "string1 = \"My phone number is: (347)123-4567\"\n",
    "string2 = \"(917)987-6543 is my number.\"\n",
    "pattern1 = \"(\\S{5})(\\d{3})-(\\d{4}).*\"\n",
    "pattern2 = \".*(\\S{5})(\\d{3})-(\\d{4})\"\n",
    "regex1 = re.compile(pattern1)\n",
    "match1 = regex1.search(string1)\n",
    "regex2 = re.compile(pattern2)\n",
    "match2 = regex2.search(string2)\n",
    "number1 = match1.group()\n",
    "number2 = match2.group()\n",
    "print(number1.replace(\"(\", \"\").replace(\")\", \"-\"))\n",
    "print(number2.replace(\"(\", \"\").replace(\")\", \"-\"))"
   ]
  },
  {
   "cell_type": "code",
   "execution_count": null,
   "metadata": {},
   "outputs": [],
   "source": []
  },
  {
   "cell_type": "code",
   "execution_count": null,
   "metadata": {},
   "outputs": [],
   "source": []
  }
 ],
 "metadata": {
  "kernelspec": {
   "display_name": "Python 3",
   "language": "python",
   "name": "python3"
  },
  "language_info": {
   "codemirror_mode": {
    "name": "ipython",
    "version": 3
   },
   "file_extension": ".py",
   "mimetype": "text/x-python",
   "name": "python",
   "nbconvert_exporter": "python",
   "pygments_lexer": "ipython3",
   "version": "3.8.3"
  }
 },
 "nbformat": 4,
 "nbformat_minor": 4
}
